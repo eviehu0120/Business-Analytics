{
 "cells": [
  {
   "cell_type": "code",
   "execution_count": 1,
   "id": "90d99d1c-0ebd-4dac-91cb-773c81513413",
   "metadata": {
    "tags": []
   },
   "outputs": [],
   "source": [
    "import pandas as pd\n",
    "\n",
    "# Load the data from the pickle file\n",
    "df = pd.read_pickle('shared/Project-3_NYC_311_Calls.pkl')\n",
    "\n",
    "# Set 'Created Date' as the index\n",
    "df = df.set_index(pd.DatetimeIndex(df['Created Date']))\n",
    "del df['Created Date']\n"
   ]
  },
  {
   "cell_type": "code",
   "execution_count": 2,
   "id": "0074939e-c60e-4325-83e6-d6ea84f856c5",
   "metadata": {
    "tags": []
   },
   "outputs": [
    {
     "name": "stdout",
     "output_type": "stream",
     "text": [
      "<class 'pandas.core.frame.DataFrame'>\n",
      "DatetimeIndex: 33780977 entries, 2011-04-06 00:00:00 to 2011-04-06 00:00:00\n",
      "Data columns (total 11 columns):\n",
      " #   Column                  Dtype \n",
      "---  ------                  ----- \n",
      " 0   Unique Key              int64 \n",
      " 1   Agency                  object\n",
      " 2   Agency Name             object\n",
      " 3   Complaint Type          object\n",
      " 4   Descriptor              object\n",
      " 5   Location Type           object\n",
      " 6   Incident Zip            object\n",
      " 7   City                    object\n",
      " 8   Resolution Description  object\n",
      " 9   Borough                 object\n",
      " 10  Open Data Channel Type  object\n",
      "dtypes: int64(1), object(10)\n",
      "memory usage: 3.0+ GB\n"
     ]
    },
    {
     "data": {
      "text/html": [
       "<div>\n",
       "<style scoped>\n",
       "    .dataframe tbody tr th:only-of-type {\n",
       "        vertical-align: middle;\n",
       "    }\n",
       "\n",
       "    .dataframe tbody tr th {\n",
       "        vertical-align: top;\n",
       "    }\n",
       "\n",
       "    .dataframe thead th {\n",
       "        text-align: right;\n",
       "    }\n",
       "</style>\n",
       "<table border=\"1\" class=\"dataframe\">\n",
       "  <thead>\n",
       "    <tr style=\"text-align: right;\">\n",
       "      <th></th>\n",
       "      <th>Unique Key</th>\n",
       "    </tr>\n",
       "  </thead>\n",
       "  <tbody>\n",
       "    <tr>\n",
       "      <th>count</th>\n",
       "      <td>3.378098e+07</td>\n",
       "    </tr>\n",
       "    <tr>\n",
       "      <th>mean</th>\n",
       "      <td>3.802665e+07</td>\n",
       "    </tr>\n",
       "    <tr>\n",
       "      <th>std</th>\n",
       "      <td>1.209574e+07</td>\n",
       "    </tr>\n",
       "    <tr>\n",
       "      <th>min</th>\n",
       "      <td>1.056422e+07</td>\n",
       "    </tr>\n",
       "    <tr>\n",
       "      <th>25%</th>\n",
       "      <td>2.793121e+07</td>\n",
       "    </tr>\n",
       "    <tr>\n",
       "      <th>50%</th>\n",
       "      <td>3.798303e+07</td>\n",
       "    </tr>\n",
       "    <tr>\n",
       "      <th>75%</th>\n",
       "      <td>4.830951e+07</td>\n",
       "    </tr>\n",
       "    <tr>\n",
       "      <th>max</th>\n",
       "      <td>5.840682e+07</td>\n",
       "    </tr>\n",
       "  </tbody>\n",
       "</table>\n",
       "</div>"
      ],
      "text/plain": [
       "         Unique Key\n",
       "count  3.378098e+07\n",
       "mean   3.802665e+07\n",
       "std    1.209574e+07\n",
       "min    1.056422e+07\n",
       "25%    2.793121e+07\n",
       "50%    3.798303e+07\n",
       "75%    4.830951e+07\n",
       "max    5.840682e+07"
      ]
     },
     "execution_count": 2,
     "metadata": {},
     "output_type": "execute_result"
    }
   ],
   "source": [
    "# Display basic information about the dataframe\n",
    "df.info()\n",
    "\n",
    "# Display the first few rows of the dataframe\n",
    "df.head()\n",
    "\n",
    "# Check for missing values\n",
    "df.isnull().sum()\n",
    "\n",
    "# Summary statistics\n",
    "df.describe()\n"
   ]
  },
  {
   "cell_type": "code",
   "execution_count": 3,
   "id": "d88e218b-2828-4023-b0b3-8205bd2f46e4",
   "metadata": {
    "tags": []
   },
   "outputs": [
    {
     "name": "stdout",
     "output_type": "stream",
     "text": [
      "Earliest Date: 2010-01-01 00:00:00\n",
      "Latest Date: 2023-08-04 12:00:00\n"
     ]
    }
   ],
   "source": [
    "# Earliest date\n",
    "earliest_date = df.index.min()\n",
    "\n",
    "# Latest date\n",
    "latest_date = df.index.max()\n",
    "\n",
    "print(f'Earliest Date: {earliest_date}')\n",
    "print(f'Latest Date: {latest_date}')\n"
   ]
  },
  {
   "cell_type": "code",
   "execution_count": 4,
   "id": "397bb7b5-dd1b-4ff1-9a48-8cd778356c69",
   "metadata": {
    "tags": []
   },
   "outputs": [
    {
     "name": "stdout",
     "output_type": "stream",
     "text": [
      "The average number of daily complaints received in 2022 is: 8684.320547945206\n"
     ]
    }
   ],
   "source": [
    "# Resample the data on a daily basis using the 'Unique Key' column (assuming it has no missing values)\n",
    "daily_complaints = df['Unique Key'].resample('D').count()\n",
    "\n",
    "# Select data for the year 2022\n",
    "complaints_2022 = daily_complaints['2022']\n",
    "\n",
    "# Calculate the average\n",
    "average_daily_complaints_2022 = complaints_2022.mean()\n",
    "\n",
    "print(f'The average number of daily complaints received in 2022 is: {average_daily_complaints_2022}')\n"
   ]
  },
  {
   "cell_type": "code",
   "execution_count": 5,
   "id": "e2b99a56-9c8f-460b-9901-eeff8ff394ff",
   "metadata": {
    "tags": []
   },
   "outputs": [
    {
     "name": "stdout",
     "output_type": "stream",
     "text": [
      "On the date with the maximum number of calls (2020-08-04), the most important complaint type was: Damaged Tree\n"
     ]
    }
   ],
   "source": [
    "# Find the complaint type with the maximum number of calls on the date with the maximum calls\n",
    "max_calls_date = df['Unique Key'].resample('D').count().idxmax()\n",
    "most_common_complaint_type = df[df.index.date == max_calls_date.date()]['Complaint Type'].value_counts().idxmax()\n",
    "\n",
    "print(f\"On the date with the maximum number of calls ({max_calls_date.date()}), the most important complaint type was: {most_common_complaint_type}\")\n"
   ]
  },
  {
   "cell_type": "code",
   "execution_count": 6,
   "id": "417d8b47-32ce-4119-ae43-ab860022fb60",
   "metadata": {
    "tags": []
   },
   "outputs": [
    {
     "name": "stdout",
     "output_type": "stream",
     "text": [
      "The quietest month historically is: 2\n"
     ]
    }
   ],
   "source": [
    "# Group the data by month and count the number of unique keys for each month\n",
    "monthly_calls = df['Unique Key'].resample('M').count()\n",
    "\n",
    "# Count the monthly average across all years\n",
    "monthly_average_calls = monthly_calls.groupby(monthly_calls.index.month).mean()\n",
    "\n",
    "# Identify the month with the fewest number of calls\n",
    "quietest_month = monthly_average_calls.idxmin()\n",
    "\n",
    "print(f\"The quietest month historically is: {quietest_month}\")"
   ]
  },
  {
   "cell_type": "code",
   "execution_count": 7,
   "id": "dc221b64-b79c-45e0-9766-749598718b60",
   "metadata": {
    "tags": []
   },
   "outputs": [
    {
     "name": "stdout",
     "output_type": "stream",
     "text": [
      "The value of the seasonal component on 2020-12-25 is: 183\n"
     ]
    }
   ],
   "source": [
    "import statsmodels.api as sm\n",
    "\n",
    "# Resample the time series to daily frequency\n",
    "daily_calls = df['Unique Key'].resample('D').count()\n",
    "\n",
    "# Perform ETS decomposition based on an additive model\n",
    "result = sm.tsa.seasonal_decompose(daily_calls, model='additive')\n",
    "\n",
    "# Extract the seasonal component for the specified date\n",
    "seasonal_component_on_date = result.seasonal['2020-12-25']\n",
    "\n",
    "print(f\"The value of the seasonal component on 2020-12-25 is: {round(seasonal_component_on_date)}\")\n"
   ]
  },
  {
   "cell_type": "code",
   "execution_count": 8,
   "id": "ee9164de-3c6b-4837-98ec-8e2eddce5342",
   "metadata": {
    "tags": []
   },
   "outputs": [
    {
     "name": "stdout",
     "output_type": "stream",
     "text": [
      "The autocorrelation with a lag of 1 is: 0.75\n"
     ]
    }
   ],
   "source": [
    "# Calculate the autocorrelation with a lag of 1 (day prior)\n",
    "autocorrelation_lag_1 = daily_calls.autocorr(lag=1)\n",
    "\n",
    "print(f\"The autocorrelation with a lag of 1 is: {autocorrelation_lag_1:.2f}\")\n"
   ]
  },
  {
   "cell_type": "code",
   "execution_count": 9,
   "id": "a577d386-3865-49cd-8428-2fffa3764c90",
   "metadata": {
    "tags": []
   },
   "outputs": [
    {
     "name": "stderr",
     "output_type": "stream",
     "text": [
      "21:44:46 - cmdstanpy - INFO - Chain [1] start processing\n",
      "21:44:47 - cmdstanpy - INFO - Chain [1] done processing\n"
     ]
    },
    {
     "name": "stdout",
     "output_type": "stream",
     "text": [
      "The RMSE on the test set is approximately: 1232\n"
     ]
    }
   ],
   "source": [
    "from prophet import Prophet\n",
    "from sklearn.metrics import mean_squared_error\n",
    "import numpy as np\n",
    "\n",
    "# Resetting the index to work with Prophet\n",
    "df_prophet = daily_calls.reset_index()\n",
    "df_prophet.columns = ['ds', 'y']\n",
    "\n",
    "# Split the data into training and test sets\n",
    "train = df_prophet[:-90]\n",
    "test = df_prophet[-90:]\n",
    "\n",
    "# Create and fit the Prophet model\n",
    "model = Prophet()\n",
    "model.fit(train)\n",
    "\n",
    "# Create a dataframe with the dates for the forecast period\n",
    "future = model.make_future_dataframe(periods=90)\n",
    "\n",
    "# Generate the forecast\n",
    "forecast = model.predict(future)\n",
    "\n",
    "# Extract the predicted values for the test set\n",
    "y_pred = forecast[-90:]['yhat'].values\n",
    "\n",
    "# Extract the true values for the test set\n",
    "y_true = test['y'].values\n",
    "\n",
    "# Calculate the RMSE\n",
    "rmse = np.sqrt(mean_squared_error(y_true, y_pred))\n",
    "\n",
    "print(f\"The RMSE on the test set is approximately: {rmse:.0f}\")\n"
   ]
  }
 ],
 "metadata": {
  "kernelspec": {
   "display_name": "Python [conda env:mggy8413]",
   "language": "python",
   "name": "conda-env-mggy8413-py"
  },
  "language_info": {
   "codemirror_mode": {
    "name": "ipython",
    "version": 3
   },
   "file_extension": ".py",
   "mimetype": "text/x-python",
   "name": "python",
   "nbconvert_exporter": "python",
   "pygments_lexer": "ipython3",
   "version": "3.10.12"
  }
 },
 "nbformat": 4,
 "nbformat_minor": 5
}
